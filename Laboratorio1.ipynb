{
 "cells": [
  {
   "attachments": {},
   "cell_type": "markdown",
   "metadata": {},
   "source": [
    "<h1>Laboratorio 1 - Practicando Markdown y Git</h1>"
   ]
  },
  {
   "attachments": {},
   "cell_type": "markdown",
   "metadata": {},
   "source": [
    "<h2>Markdown</h2>"
   ]
  },
  {
   "attachments": {},
   "cell_type": "markdown",
   "metadata": {},
   "source": [
    "Markdown es un lenguaje de marcado ligero utilizado para dar formato a documentos de texto. Markdown utiliza una sintaxis simple, basada en signos de puntuación como #, * y > para dar formato al texto.\n",
    "\n",
    "Ejemplos:\n",
    "* Usar un símbolo # antes del texto crea un encabezado\n",
    "* Usar asteriscos crea un énfasis \n",
    "* Usar corchetes angulares crea una cita en bloque\n",
    "\n",
    "Esto hace que sea fácil escribir texto formateado de manera que sea legible fácilmente convertible a HTML."
   ]
  },
  {
   "attachments": {},
   "cell_type": "markdown",
   "metadata": {},
   "source": [
    "Si se desea dar un formato de texto, se puede utilizar la documentación disponible en la pagina [markdownguide] (https://www.markdownguide.org/basic-syntax/)"
   ]
  },
  {
   "attachments": {},
   "cell_type": "markdown",
   "metadata": {},
   "source": [
    "Se utilizaran mas ejemplos a lo largo de este notebook."
   ]
  },
  {
   "attachments": {},
   "cell_type": "markdown",
   "metadata": {},
   "source": [
    "<h2>Git</h2>"
   ]
  },
  {
   "attachments": {},
   "cell_type": "markdown",
   "metadata": {},
   "source": [
    "Git es un sistema de control de versiones distribuido que ayuda a los desarrolladores a gestionar los cambios en su código fuente y a colaborar en proyectos con multiples usuarios de manera eficiente.\n",
    "Un sistema de control de versiones como Git, permite:\n",
    "\n",
    "* Flujo de trabajo en ramas\n",
    "* Desarrollar colaborativamente\n",
    "* Mejor organización en el código\n",
    "* Opciones de seguridad y recuperación"
   ]
  },
  {
   "attachments": {},
   "cell_type": "markdown",
   "metadata": {},
   "source": [
    "<h3>Aprendiendo algunos comandos de Git</h3>"
   ]
  },
  {
   "attachments": {},
   "cell_type": "markdown",
   "metadata": {},
   "source": [
    "Este ensayo servirá como ejemplo de algunos de los comandos básicos de Git."
   ]
  },
  {
   "attachments": {},
   "cell_type": "markdown",
   "metadata": {},
   "source": [
    "* Comenzaremos utilizando el comando git init para indicar a Git que vamos a crear un nuevo repositorio."
   ]
  },
  {
   "cell_type": "code",
   "execution_count": 6,
   "metadata": {},
   "outputs": [
    {
     "name": "stdout",
     "output_type": "stream",
     "text": [
      "Microsoft Windows [Version 10.0.22621.1105]\n",
      "(c) Microsoft Corporation. All rights reserved.\n",
      "\n",
      "(base) c:\\Users\\LAPTOP-ERICK\\Documents\\Maestria Data Scientist\\2023\\Trimestre 1\\Ciencia de datos con Python\\Scripts Python\\CDP_Markdown_and_git>git init\n",
      "Reinitialized existing Git repository in C:/Users/LAPTOP-ERICK/Documents/Maestria Data Scientist/2023/Trimestre 1/Ciencia de datos con Python/Scripts Python/CDP_Markdown_and_git/.git/\n",
      "\n",
      "(base) c:\\Users\\LAPTOP-ERICK\\Documents\\Maestria Data Scientist\\2023\\Trimestre 1\\Ciencia de datos con Python\\Scripts Python\\CDP_Markdown_and_git>"
     ]
    }
   ],
   "source": [
    "%%cmd\n",
    "git init"
   ]
  },
  {
   "attachments": {},
   "cell_type": "markdown",
   "metadata": {},
   "source": [
    "* Creamos un archivo llamado Laboratorio1.ipynb y luego ejecutamos el comando git status."
   ]
  },
  {
   "cell_type": "code",
   "execution_count": 7,
   "metadata": {},
   "outputs": [
    {
     "name": "stdout",
     "output_type": "stream",
     "text": [
      "Microsoft Windows [Version 10.0.22621.1105]\n",
      "(c) Microsoft Corporation. All rights reserved.\n",
      "\n",
      "(base) c:\\Users\\LAPTOP-ERICK\\Documents\\Maestria Data Scientist\\2023\\Trimestre 1\\Ciencia de datos con Python\\Scripts Python\\CDP_Markdown_and_git>\n",
      "(base) c:\\Users\\LAPTOP-ERICK\\Documents\\Maestria Data Scientist\\2023\\Trimestre 1\\Ciencia de datos con Python\\Scripts Python\\CDP_Markdown_and_git>git status\n",
      "On branch master\n",
      "\n",
      "No commits yet\n",
      "\n",
      "Untracked files:\n",
      "  (use \"git add <file>...\" to include in what will be committed)\n",
      "\tLaboratorio1.ipynb\n",
      "\n",
      "nothing added to commit but untracked files present (use \"git add\" to track)\n",
      "\n",
      "(base) c:\\Users\\LAPTOP-ERICK\\Documents\\Maestria Data Scientist\\2023\\Trimestre 1\\Ciencia de datos con Python\\Scripts Python\\CDP_Markdown_and_git>"
     ]
    }
   ],
   "source": [
    "%%cmd\n",
    "\n",
    "git status"
   ]
  },
  {
   "attachments": {},
   "cell_type": "markdown",
   "metadata": {},
   "source": [
    "El comando git status, nos muestra el estado actual de nuestro proyecto, en este caso nos dice que no tenemos commits aún y que debemos incluir el archivo Laboratorio1.ipynb para agregarlo a nuestra área de trabajo. Vamos a usar el comando que nos sugiere para agregar el archivo. (git add < file >)"
   ]
  },
  {
   "cell_type": "code",
   "execution_count": 9,
   "metadata": {},
   "outputs": [
    {
     "name": "stdout",
     "output_type": "stream",
     "text": [
      "Microsoft Windows [Version 10.0.22621.1105]\n",
      "(c) Microsoft Corporation. All rights reserved.\n",
      "\n",
      "(base) c:\\Users\\LAPTOP-ERICK\\Documents\\Maestria Data Scientist\\2023\\Trimestre 1\\Ciencia de datos con Python\\Scripts Python\\CDP_Markdown_and_git>\n",
      "(base) c:\\Users\\LAPTOP-ERICK\\Documents\\Maestria Data Scientist\\2023\\Trimestre 1\\Ciencia de datos con Python\\Scripts Python\\CDP_Markdown_and_git>git add Laboratorio1.ipynb\n",
      "\n",
      "(base) c:\\Users\\LAPTOP-ERICK\\Documents\\Maestria Data Scientist\\2023\\Trimestre 1\\Ciencia de datos con Python\\Scripts Python\\CDP_Markdown_and_git>"
     ]
    },
    {
     "name": "stderr",
     "output_type": "stream",
     "text": [
      "warning: in the working copy of 'Laboratorio1.ipynb', LF will be replaced by CRLF the next time Git touches it\n"
     ]
    }
   ],
   "source": [
    "%%cmd\n",
    "\n",
    "git add Laboratorio1.ipynb"
   ]
  },
  {
   "attachments": {},
   "cell_type": "markdown",
   "metadata": {},
   "source": [
    "Ahora vamos a hacer nuestro primer commit, usaremos el comando \"git commit -m 'texto' \""
   ]
  },
  {
   "cell_type": "code",
   "execution_count": 11,
   "metadata": {},
   "outputs": [
    {
     "name": "stdout",
     "output_type": "stream",
     "text": [
      "Microsoft Windows [Version 10.0.22621.1105]\n",
      "(c) Microsoft Corporation. All rights reserved.\n",
      "\n",
      "(base) c:\\Users\\LAPTOP-ERICK\\Documents\\Maestria Data Scientist\\2023\\Trimestre 1\\Ciencia de datos con Python\\Scripts Python\\CDP_Markdown_and_git>\n",
      "(base) c:\\Users\\LAPTOP-ERICK\\Documents\\Maestria Data Scientist\\2023\\Trimestre 1\\Ciencia de datos con Python\\Scripts Python\\CDP_Markdown_and_git>git commit -m \"Primer commit de este ensayo\"\n",
      "[master (root-commit) 78267ab] Primer commit de este ensayo\n",
      " 1 file changed, 38 insertions(+)\n",
      " create mode 100644 Laboratorio1.ipynb\n",
      "\n",
      "(base) c:\\Users\\LAPTOP-ERICK\\Documents\\Maestria Data Scientist\\2023\\Trimestre 1\\Ciencia de datos con Python\\Scripts Python\\CDP_Markdown_and_git>"
     ]
    }
   ],
   "source": [
    "%%cmd\n",
    "\n",
    "git commit -m \"Primer commit de este ensayo\""
   ]
  },
  {
   "attachments": {},
   "cell_type": "markdown",
   "metadata": {},
   "source": [
    "Tenemos nuestro primer commit, el cual generó un codigo para identificarlo (100644)"
   ]
  },
  {
   "attachments": {},
   "cell_type": "markdown",
   "metadata": {},
   "source": [
    "Cabe mencionar que previamente debemos crear una cuenta en GitHub y crear un repositorio.\n",
    "El repositorio creado para este ensayo se llama: CDP_Markdown_and_git\n",
    "\n",
    "Pueden encontrarlo en el siguiente link (https://github.com/brandonfuentes97/CDP_Markdown_and_git.git)"
   ]
  },
  {
   "attachments": {},
   "cell_type": "markdown",
   "metadata": {},
   "source": [
    "Ahora vamos a integrar este notebook a nuestro repositorio en GitHub, para esto debemos utilizar los siguientes comandos:\n",
    "* git remote add origin https://github.com/brandonfuentes97/CDP_Markdown_and_git.git\n",
    "* git push -u origin master"
   ]
  },
  {
   "cell_type": "code",
   "execution_count": 12,
   "metadata": {},
   "outputs": [
    {
     "name": "stdout",
     "output_type": "stream",
     "text": [
      "Microsoft Windows [Version 10.0.22621.1105]\n",
      "(c) Microsoft Corporation. All rights reserved.\n",
      "\n",
      "(base) c:\\Users\\LAPTOP-ERICK\\Documents\\Maestria Data Scientist\\2023\\Trimestre 1\\Ciencia de datos con Python\\Scripts Python\\CDP_Markdown_and_git>\n",
      "(base) c:\\Users\\LAPTOP-ERICK\\Documents\\Maestria Data Scientist\\2023\\Trimestre 1\\Ciencia de datos con Python\\Scripts Python\\CDP_Markdown_and_git>git remote add origin https://github.com/brandonfuentes97/CDP_Markdown_and_git.git\n",
      "\n",
      "(base) c:\\Users\\LAPTOP-ERICK\\Documents\\Maestria Data Scientist\\2023\\Trimestre 1\\Ciencia de datos con Python\\Scripts Python\\CDP_Markdown_and_git>"
     ]
    }
   ],
   "source": [
    "%%cmd\n",
    "\n",
    "git remote add origin https://github.com/brandonfuentes97/CDP_Markdown_and_git.git"
   ]
  },
  {
   "cell_type": "code",
   "execution_count": 13,
   "metadata": {},
   "outputs": [
    {
     "name": "stdout",
     "output_type": "stream",
     "text": [
      "Microsoft Windows [Version 10.0.22621.1105]\n",
      "(c) Microsoft Corporation. All rights reserved.\n",
      "\n",
      "(base) c:\\Users\\LAPTOP-ERICK\\Documents\\Maestria Data Scientist\\2023\\Trimestre 1\\Ciencia de datos con Python\\Scripts Python\\CDP_Markdown_and_git>\n",
      "(base) c:\\Users\\LAPTOP-ERICK\\Documents\\Maestria Data Scientist\\2023\\Trimestre 1\\Ciencia de datos con Python\\Scripts Python\\CDP_Markdown_and_git>git push -u origin master\n",
      "branch 'master' set up to track 'origin/master'.\n",
      "\n",
      "(base) c:\\Users\\LAPTOP-ERICK\\Documents\\Maestria Data Scientist\\2023\\Trimestre 1\\Ciencia de datos con Python\\Scripts Python\\CDP_Markdown_and_git>"
     ]
    },
    {
     "name": "stderr",
     "output_type": "stream",
     "text": [
      "To https://github.com/brandonfuentes97/CDP_Markdown_and_git.git\n",
      " * [new branch]      master -> master\n"
     ]
    }
   ],
   "source": [
    "%%cmd\n",
    "\n",
    "git push -u origin master"
   ]
  },
  {
   "attachments": {},
   "cell_type": "markdown",
   "metadata": {},
   "source": [
    "Bien, ahora ya tenemos nuestro repositorio con el primer commit en GitHub.\n",
    "\n",
    "Vamos a ejecutar nuevamente el comando git status, para revisar el estado actual de nuestro proyecto."
   ]
  },
  {
   "cell_type": "code",
   "execution_count": 17,
   "metadata": {},
   "outputs": [
    {
     "name": "stdout",
     "output_type": "stream",
     "text": [
      "Microsoft Windows [Version 10.0.22621.1105]\n",
      "(c) Microsoft Corporation. All rights reserved.\n",
      "\n",
      "(base) c:\\Users\\LAPTOP-ERICK\\Documents\\Maestria Data Scientist\\2023\\Trimestre 1\\Ciencia de datos con Python\\Scripts Python\\CDP_Markdown_and_git>\n",
      "(base) c:\\Users\\LAPTOP-ERICK\\Documents\\Maestria Data Scientist\\2023\\Trimestre 1\\Ciencia de datos con Python\\Scripts Python\\CDP_Markdown_and_git>git status\n",
      "On branch master\n",
      "Your branch is up to date with 'origin/master'.\n",
      "\n",
      "Changes not staged for commit:\n",
      "  (use \"git add <file>...\" to update what will be committed)\n",
      "  (use \"git restore <file>...\" to discard changes in working directory)\n",
      "\tmodified:   Laboratorio1.ipynb\n",
      "\n",
      "no changes added to commit (use \"git add\" and/or \"git commit -a\")\n",
      "\n",
      "(base) c:\\Users\\LAPTOP-ERICK\\Documents\\Maestria Data Scientist\\2023\\Trimestre 1\\Ciencia de datos con Python\\Scripts Python\\CDP_Markdown_and_git>"
     ]
    }
   ],
   "source": [
    "%%cmd\n",
    "\n",
    "git status"
   ]
  },
  {
   "attachments": {},
   "cell_type": "markdown",
   "metadata": {},
   "source": [
    "Nos indica que nuestro notebook Laboratorio1.ipynb tiene modificaciones, ya que hasta este momento se guardó el archivo (presionamos ctrl+s). Debemos ejecutar nuevamente el comando git add para volver a indicarle a git que tome estos cambios dentro de nuestro proyecto."
   ]
  },
  {
   "cell_type": "code",
   "execution_count": 18,
   "metadata": {},
   "outputs": [
    {
     "name": "stdout",
     "output_type": "stream",
     "text": [
      "Microsoft Windows [Version 10.0.22621.1105]\n",
      "(c) Microsoft Corporation. All rights reserved.\n",
      "\n",
      "(base) c:\\Users\\LAPTOP-ERICK\\Documents\\Maestria Data Scientist\\2023\\Trimestre 1\\Ciencia de datos con Python\\Scripts Python\\CDP_Markdown_and_git>\n",
      "(base) c:\\Users\\LAPTOP-ERICK\\Documents\\Maestria Data Scientist\\2023\\Trimestre 1\\Ciencia de datos con Python\\Scripts Python\\CDP_Markdown_and_git>git add Laboratorio1.ipynb\n",
      "\n",
      "(base) c:\\Users\\LAPTOP-ERICK\\Documents\\Maestria Data Scientist\\2023\\Trimestre 1\\Ciencia de datos con Python\\Scripts Python\\CDP_Markdown_and_git>"
     ]
    },
    {
     "name": "stderr",
     "output_type": "stream",
     "text": [
      "warning: in the working copy of 'Laboratorio1.ipynb', LF will be replaced by CRLF the next time Git touches it\n"
     ]
    }
   ],
   "source": [
    "%%cmd\n",
    "\n",
    "git add Laboratorio1.ipynb"
   ]
  },
  {
   "cell_type": "markdown",
   "metadata": {},
   "source": [
    "Y hacemos nuestro segundo commit"
   ]
  },
  {
   "cell_type": "code",
   "execution_count": 19,
   "metadata": {},
   "outputs": [
    {
     "name": "stdout",
     "output_type": "stream",
     "text": [
      "Microsoft Windows [Version 10.0.22621.1105]\n",
      "(c) Microsoft Corporation. All rights reserved.\n",
      "\n",
      "(base) c:\\Users\\LAPTOP-ERICK\\Documents\\Maestria Data Scientist\\2023\\Trimestre 1\\Ciencia de datos con Python\\Scripts Python\\CDP_Markdown_and_git>\n",
      "(base) c:\\Users\\LAPTOP-ERICK\\Documents\\Maestria Data Scientist\\2023\\Trimestre 1\\Ciencia de datos con Python\\Scripts Python\\CDP_Markdown_and_git>git commit -m \"Segundo commit! Vamos bien\"\n",
      "[master b45c250] Segundo commit! Vamos bien\n",
      " 1 file changed, 381 insertions(+), 2 deletions(-)\n",
      "\n",
      "(base) c:\\Users\\LAPTOP-ERICK\\Documents\\Maestria Data Scientist\\2023\\Trimestre 1\\Ciencia de datos con Python\\Scripts Python\\CDP_Markdown_and_git>"
     ]
    }
   ],
   "source": [
    "%%cmd\n",
    "\n",
    "git commit -m \"Segundo commit! Vamos bien\""
   ]
  },
  {
   "attachments": {},
   "cell_type": "markdown",
   "metadata": {},
   "source": [
    "Muy bien, ya tenemos nuestro segundo commit, pero aún no lo vemos reflejado en nuestro repositorio de GitHub, por lo que vamos a ejecutar nuevamente el comando git push -u origin master"
   ]
  },
  {
   "cell_type": "code",
   "execution_count": 20,
   "metadata": {},
   "outputs": [
    {
     "name": "stdout",
     "output_type": "stream",
     "text": [
      "Microsoft Windows [Version 10.0.22621.1105]\n",
      "(c) Microsoft Corporation. All rights reserved.\n",
      "\n",
      "(base) c:\\Users\\LAPTOP-ERICK\\Documents\\Maestria Data Scientist\\2023\\Trimestre 1\\Ciencia de datos con Python\\Scripts Python\\CDP_Markdown_and_git>\n",
      "(base) c:\\Users\\LAPTOP-ERICK\\Documents\\Maestria Data Scientist\\2023\\Trimestre 1\\Ciencia de datos con Python\\Scripts Python\\CDP_Markdown_and_git>git push -u origin master\n",
      "branch 'master' set up to track 'origin/master'.\n",
      "\n",
      "(base) c:\\Users\\LAPTOP-ERICK\\Documents\\Maestria Data Scientist\\2023\\Trimestre 1\\Ciencia de datos con Python\\Scripts Python\\CDP_Markdown_and_git>"
     ]
    },
    {
     "name": "stderr",
     "output_type": "stream",
     "text": [
      "To https://github.com/brandonfuentes97/CDP_Markdown_and_git.git\n",
      "   78267ab..b45c250  master -> master\n"
     ]
    }
   ],
   "source": [
    "%%cmd\n",
    "\n",
    "git push -u origin master"
   ]
  },
  {
   "attachments": {},
   "cell_type": "markdown",
   "metadata": {},
   "source": [
    "Tomamos una captura de los commit en el repositorio de GitHub y la vamos a mostrar a continuación:\n",
    "\n",
    "<img src=\"img-commit.png\">"
   ]
  },
  {
   "cell_type": "code",
   "execution_count": 22,
   "metadata": {},
   "outputs": [
    {
     "name": "stdout",
     "output_type": "stream",
     "text": [
      "Microsoft Windows [Version 10.0.22621.1105]\n",
      "(c) Microsoft Corporation. All rights reserved.\n",
      "\n",
      "(base) c:\\Users\\LAPTOP-ERICK\\Documents\\Maestria Data Scientist\\2023\\Trimestre 1\\Ciencia de datos con Python\\Scripts Python\\CDP_Markdown_and_git>\n",
      "(base) c:\\Users\\LAPTOP-ERICK\\Documents\\Maestria Data Scientist\\2023\\Trimestre 1\\Ciencia de datos con Python\\Scripts Python\\CDP_Markdown_and_git>git status\n",
      "On branch master\n",
      "Your branch is up to date with 'origin/master'.\n",
      "\n",
      "Changes not staged for commit:\n",
      "  (use \"git add <file>...\" to update what will be committed)\n",
      "  (use \"git restore <file>...\" to discard changes in working directory)\n",
      "\tmodified:   Laboratorio1.ipynb\n",
      "\n",
      "Untracked files:\n",
      "  (use \"git add <file>...\" to include in what will be committed)\n",
      "\timg-commit.png\n",
      "\n",
      "no changes added to commit (use \"git add\" and/or \"git commit -a\")\n",
      "\n",
      "(base) c:\\Users\\LAPTOP-ERICK\\Documents\\Maestria Data Scientist\\2023\\Trimestre 1\\Ciencia de datos con Python\\Scripts Python\\CDP_Markdown_and_git>"
     ]
    }
   ],
   "source": [
    "%%cmd\n",
    "\n",
    "git status"
   ]
  },
  {
   "attachments": {},
   "cell_type": "markdown",
   "metadata": {},
   "source": [
    "Como agregamos una imagen dentro de la carpeta raiz de este notebook, git lo reconoce y nos avisa que debemos ejecutar el comando git add nuevamente. Lo vamos a ejecutar, pero en esta ocasión no colocaremos el nombre del archivo, sino un punto, para que tome cualquier archivo nuevo."
   ]
  },
  {
   "cell_type": "code",
   "execution_count": 25,
   "metadata": {},
   "outputs": [
    {
     "name": "stdout",
     "output_type": "stream",
     "text": [
      "Microsoft Windows [Version 10.0.22621.1105]\n",
      "(c) Microsoft Corporation. All rights reserved.\n",
      "\n",
      "(base) c:\\Users\\LAPTOP-ERICK\\Documents\\Maestria Data Scientist\\2023\\Trimestre 1\\Ciencia de datos con Python\\Scripts Python\\CDP_Markdown_and_git>\n",
      "(base) c:\\Users\\LAPTOP-ERICK\\Documents\\Maestria Data Scientist\\2023\\Trimestre 1\\Ciencia de datos con Python\\Scripts Python\\CDP_Markdown_and_git>git add .\n",
      "\n",
      "(base) c:\\Users\\LAPTOP-ERICK\\Documents\\Maestria Data Scientist\\2023\\Trimestre 1\\Ciencia de datos con Python\\Scripts Python\\CDP_Markdown_and_git>"
     ]
    },
    {
     "name": "stderr",
     "output_type": "stream",
     "text": [
      "warning: in the working copy of 'Laboratorio1.ipynb', LF will be replaced by CRLF the next time Git touches it\n"
     ]
    }
   ],
   "source": [
    "%%cmd \n",
    "\n",
    "git add ."
   ]
  },
  {
   "cell_type": "code",
   "execution_count": 26,
   "metadata": {},
   "outputs": [
    {
     "name": "stdout",
     "output_type": "stream",
     "text": [
      "Microsoft Windows [Version 10.0.22621.1105]\n",
      "(c) Microsoft Corporation. All rights reserved.\n",
      "\n",
      "(base) c:\\Users\\LAPTOP-ERICK\\Documents\\Maestria Data Scientist\\2023\\Trimestre 1\\Ciencia de datos con Python\\Scripts Python\\CDP_Markdown_and_git>\n",
      "(base) c:\\Users\\LAPTOP-ERICK\\Documents\\Maestria Data Scientist\\2023\\Trimestre 1\\Ciencia de datos con Python\\Scripts Python\\CDP_Markdown_and_git>git commit -m \"Tercer commit, agregamos una imagen!\"\n",
      "[master 4197a28] Tercer commit, agregamos una imagen!\n",
      " 2 files changed, 188 insertions(+), 3 deletions(-)\n",
      " create mode 100644 img-commit.png\n",
      "\n",
      "(base) c:\\Users\\LAPTOP-ERICK\\Documents\\Maestria Data Scientist\\2023\\Trimestre 1\\Ciencia de datos con Python\\Scripts Python\\CDP_Markdown_and_git>"
     ]
    }
   ],
   "source": [
    "%%cmd\n",
    "\n",
    "git commit -m \"Tercer commit, agregamos una imagen!\""
   ]
  },
  {
   "cell_type": "code",
   "execution_count": 27,
   "metadata": {},
   "outputs": [
    {
     "name": "stdout",
     "output_type": "stream",
     "text": [
      "Microsoft Windows [Version 10.0.22621.1105]\n",
      "(c) Microsoft Corporation. All rights reserved.\n",
      "\n",
      "(base) c:\\Users\\LAPTOP-ERICK\\Documents\\Maestria Data Scientist\\2023\\Trimestre 1\\Ciencia de datos con Python\\Scripts Python\\CDP_Markdown_and_git>\n",
      "(base) c:\\Users\\LAPTOP-ERICK\\Documents\\Maestria Data Scientist\\2023\\Trimestre 1\\Ciencia de datos con Python\\Scripts Python\\CDP_Markdown_and_git>git push -u origin master\n",
      "branch 'master' set up to track 'origin/master'.\n",
      "\n",
      "(base) c:\\Users\\LAPTOP-ERICK\\Documents\\Maestria Data Scientist\\2023\\Trimestre 1\\Ciencia de datos con Python\\Scripts Python\\CDP_Markdown_and_git>"
     ]
    },
    {
     "name": "stderr",
     "output_type": "stream",
     "text": [
      "To https://github.com/brandonfuentes97/CDP_Markdown_and_git.git\n",
      "   b45c250..4197a28  master -> master\n"
     ]
    }
   ],
   "source": [
    "%%cmd\n",
    "\n",
    "git push -u origin master"
   ]
  },
  {
   "attachments": {},
   "cell_type": "markdown",
   "metadata": {},
   "source": [
    "Ahora veremos nuevos comandos para utilizar ramas en nuestro desarrollo.\n",
    "\n",
    "Por ejemplo:\n",
    "\n",
    "* git branch : Nos muestra las ramas existentes\n",
    "* git branch name_branch : crea una rama con el nombre que le indiquemos\n",
    "* git checkout name_branch : nos cambia a la rama que indiquemos\n",
    "\n",
    "Para este ejemplo, crearemos la rama llamada \"dev\" y nos moveremos a ella.\n",
    "\n",
    "La ramificaciones se utilizan para tener una copia del proyecto principal y trabajar sobre ella sin alteral la rama principal. Como nons cambiaremos a la rama dev, todos los cambios que se relicen solo afectarán a esta rama."
   ]
  },
  {
   "cell_type": "code",
   "execution_count": 28,
   "metadata": {},
   "outputs": [
    {
     "name": "stdout",
     "output_type": "stream",
     "text": [
      "Microsoft Windows [Version 10.0.22621.1105]\n",
      "(c) Microsoft Corporation. All rights reserved.\n",
      "\n",
      "(base) c:\\Users\\LAPTOP-ERICK\\Documents\\Maestria Data Scientist\\2023\\Trimestre 1\\Ciencia de datos con Python\\Scripts Python\\CDP_Markdown_and_git>\n",
      "(base) c:\\Users\\LAPTOP-ERICK\\Documents\\Maestria Data Scientist\\2023\\Trimestre 1\\Ciencia de datos con Python\\Scripts Python\\CDP_Markdown_and_git>git branch\n",
      "* master\n",
      "\n",
      "(base) c:\\Users\\LAPTOP-ERICK\\Documents\\Maestria Data Scientist\\2023\\Trimestre 1\\Ciencia de datos con Python\\Scripts Python\\CDP_Markdown_and_git>"
     ]
    }
   ],
   "source": [
    "%%cmd\n",
    "\n",
    "git branch"
   ]
  },
  {
   "cell_type": "code",
   "execution_count": 29,
   "metadata": {},
   "outputs": [
    {
     "name": "stdout",
     "output_type": "stream",
     "text": [
      "Microsoft Windows [Version 10.0.22621.1105]\n",
      "(c) Microsoft Corporation. All rights reserved.\n",
      "\n",
      "(base) c:\\Users\\LAPTOP-ERICK\\Documents\\Maestria Data Scientist\\2023\\Trimestre 1\\Ciencia de datos con Python\\Scripts Python\\CDP_Markdown_and_git>\n",
      "(base) c:\\Users\\LAPTOP-ERICK\\Documents\\Maestria Data Scientist\\2023\\Trimestre 1\\Ciencia de datos con Python\\Scripts Python\\CDP_Markdown_and_git>git branch dev\n",
      "\n",
      "(base) c:\\Users\\LAPTOP-ERICK\\Documents\\Maestria Data Scientist\\2023\\Trimestre 1\\Ciencia de datos con Python\\Scripts Python\\CDP_Markdown_and_git>"
     ]
    }
   ],
   "source": [
    "%%cmd\n",
    "\n",
    "git branch dev"
   ]
  },
  {
   "cell_type": "code",
   "execution_count": 30,
   "metadata": {},
   "outputs": [
    {
     "name": "stdout",
     "output_type": "stream",
     "text": [
      "Microsoft Windows [Version 10.0.22621.1105]\n",
      "(c) Microsoft Corporation. All rights reserved.\n",
      "\n",
      "(base) c:\\Users\\LAPTOP-ERICK\\Documents\\Maestria Data Scientist\\2023\\Trimestre 1\\Ciencia de datos con Python\\Scripts Python\\CDP_Markdown_and_git>\n",
      "(base) c:\\Users\\LAPTOP-ERICK\\Documents\\Maestria Data Scientist\\2023\\Trimestre 1\\Ciencia de datos con Python\\Scripts Python\\CDP_Markdown_and_git>git branch\n",
      "  dev\n",
      "* master\n",
      "\n",
      "(base) c:\\Users\\LAPTOP-ERICK\\Documents\\Maestria Data Scientist\\2023\\Trimestre 1\\Ciencia de datos con Python\\Scripts Python\\CDP_Markdown_and_git>"
     ]
    }
   ],
   "source": [
    "%%cmd\n",
    "\n",
    "git branch"
   ]
  },
  {
   "cell_type": "code",
   "execution_count": 33,
   "metadata": {},
   "outputs": [
    {
     "name": "stdout",
     "output_type": "stream",
     "text": [
      "Microsoft Windows [Version 10.0.22621.1105]\n",
      "(c) Microsoft Corporation. All rights reserved.\n",
      "\n",
      "(base) c:\\Users\\LAPTOP-ERICK\\Documents\\Maestria Data Scientist\\2023\\Trimestre 1\\Ciencia de datos con Python\\Scripts Python\\CDP_Markdown_and_git>\n",
      "(base) c:\\Users\\LAPTOP-ERICK\\Documents\\Maestria Data Scientist\\2023\\Trimestre 1\\Ciencia de datos con Python\\Scripts Python\\CDP_Markdown_and_git>git checkout dev\n",
      "M\tLaboratorio1.ipynb\n",
      "\n",
      "(base) c:\\Users\\LAPTOP-ERICK\\Documents\\Maestria Data Scientist\\2023\\Trimestre 1\\Ciencia de datos con Python\\Scripts Python\\CDP_Markdown_and_git>"
     ]
    },
    {
     "name": "stderr",
     "output_type": "stream",
     "text": [
      "Switched to branch 'dev'\n"
     ]
    }
   ],
   "source": [
    "%%cmd\n",
    "\n",
    "git checkout dev"
   ]
  },
  {
   "attachments": {},
   "cell_type": "markdown",
   "metadata": {},
   "source": [
    "**Este texto solo está incluida en la rama dev**"
   ]
  },
  {
   "cell_type": "code",
   "execution_count": 34,
   "metadata": {},
   "outputs": [
    {
     "name": "stdout",
     "output_type": "stream",
     "text": [
      "Microsoft Windows [Version 10.0.22621.1105]\n",
      "(c) Microsoft Corporation. All rights reserved.\n",
      "\n",
      "(base) c:\\Users\\LAPTOP-ERICK\\Documents\\Maestria Data Scientist\\2023\\Trimestre 1\\Ciencia de datos con Python\\Scripts Python\\CDP_Markdown_and_git>\n",
      "(base) c:\\Users\\LAPTOP-ERICK\\Documents\\Maestria Data Scientist\\2023\\Trimestre 1\\Ciencia de datos con Python\\Scripts Python\\CDP_Markdown_and_git>git status\n",
      "On branch dev\n",
      "Changes not staged for commit:\n",
      "  (use \"git add <file>...\" to update what will be committed)\n",
      "  (use \"git restore <file>...\" to discard changes in working directory)\n",
      "\tmodified:   Laboratorio1.ipynb\n",
      "\n",
      "no changes added to commit (use \"git add\" and/or \"git commit -a\")\n",
      "\n",
      "(base) c:\\Users\\LAPTOP-ERICK\\Documents\\Maestria Data Scientist\\2023\\Trimestre 1\\Ciencia de datos con Python\\Scripts Python\\CDP_Markdown_and_git>"
     ]
    }
   ],
   "source": [
    "%%cmd \n",
    "\n",
    "git status"
   ]
  },
  {
   "cell_type": "code",
   "execution_count": 35,
   "metadata": {},
   "outputs": [
    {
     "name": "stdout",
     "output_type": "stream",
     "text": [
      "Microsoft Windows [Version 10.0.22621.1105]\n",
      "(c) Microsoft Corporation. All rights reserved.\n",
      "\n",
      "(base) c:\\Users\\LAPTOP-ERICK\\Documents\\Maestria Data Scientist\\2023\\Trimestre 1\\Ciencia de datos con Python\\Scripts Python\\CDP_Markdown_and_git>\n",
      "(base) c:\\Users\\LAPTOP-ERICK\\Documents\\Maestria Data Scientist\\2023\\Trimestre 1\\Ciencia de datos con Python\\Scripts Python\\CDP_Markdown_and_git>git add .\n",
      "\n",
      "(base) c:\\Users\\LAPTOP-ERICK\\Documents\\Maestria Data Scientist\\2023\\Trimestre 1\\Ciencia de datos con Python\\Scripts Python\\CDP_Markdown_and_git>"
     ]
    },
    {
     "name": "stderr",
     "output_type": "stream",
     "text": [
      "warning: in the working copy of 'Laboratorio1.ipynb', LF will be replaced by CRLF the next time Git touches it\n",
      "warning: in the working copy of 'Laboratorio1_branch_dev.ipynb', LF will be replaced by CRLF the next time Git touches it\n"
     ]
    }
   ],
   "source": [
    "%%cmd\n",
    "\n",
    "git add ."
   ]
  },
  {
   "cell_type": "markdown",
   "metadata": {},
   "source": []
  },
  {
   "cell_type": "code",
   "execution_count": 36,
   "metadata": {},
   "outputs": [
    {
     "name": "stdout",
     "output_type": "stream",
     "text": [
      "Microsoft Windows [Version 10.0.22621.1105]\n",
      "(c) Microsoft Corporation. All rights reserved.\n",
      "\n",
      "(base) c:\\Users\\LAPTOP-ERICK\\Documents\\Maestria Data Scientist\\2023\\Trimestre 1\\Ciencia de datos con Python\\Scripts Python\\CDP_Markdown_and_git>\n",
      "(base) c:\\Users\\LAPTOP-ERICK\\Documents\\Maestria Data Scientist\\2023\\Trimestre 1\\Ciencia de datos con Python\\Scripts Python\\CDP_Markdown_and_git>git commit -m \"Este commit corresponde a la rama dev\"\n",
      "[dev 299bb9f] Este commit corresponde a la rama dev\n",
      " 2 files changed, 226 insertions(+), 3 deletions(-)\n",
      " create mode 100644 Laboratorio1_branch_dev.ipynb\n",
      "\n",
      "(base) c:\\Users\\LAPTOP-ERICK\\Documents\\Maestria Data Scientist\\2023\\Trimestre 1\\Ciencia de datos con Python\\Scripts Python\\CDP_Markdown_and_git>git push -u origin dev\n",
      "branch 'dev' set up to track 'origin/dev'.\n",
      "\n",
      "(base) c:\\Users\\LAPTOP-ERICK\\Documents\\Maestria Data Scientist\\2023\\Trimestre 1\\Ciencia de datos con Python\\Scripts Python\\CDP_Markdown_and_git>"
     ]
    },
    {
     "name": "stderr",
     "output_type": "stream",
     "text": [
      "remote: \n",
      "remote: Create a pull request for 'dev' on GitHub by visiting:        \n",
      "remote:      https://github.com/brandonfuentes97/CDP_Markdown_and_git/pull/new/dev        \n",
      "remote: \n",
      "To https://github.com/brandonfuentes97/CDP_Markdown_and_git.git\n",
      " * [new branch]      dev -> dev\n"
     ]
    }
   ],
   "source": [
    "%%cmd\n",
    "\n",
    "git commit -m \"Este commit corresponde a la rama dev\"\n",
    "git push -u origin dev"
   ]
  },
  {
   "cell_type": "code",
   "execution_count": 38,
   "metadata": {},
   "outputs": [
    {
     "name": "stdout",
     "output_type": "stream",
     "text": [
      "Microsoft Windows [Version 10.0.22621.1105]\n",
      "(c) Microsoft Corporation. All rights reserved.\n",
      "\n",
      "(base) c:\\Users\\LAPTOP-ERICK\\Documents\\Maestria Data Scientist\\2023\\Trimestre 1\\Ciencia de datos con Python\\Scripts Python\\CDP_Markdown_and_git>\n",
      "(base) c:\\Users\\LAPTOP-ERICK\\Documents\\Maestria Data Scientist\\2023\\Trimestre 1\\Ciencia de datos con Python\\Scripts Python\\CDP_Markdown_and_git>git checkout master\n",
      "\n",
      "(base) c:\\Users\\LAPTOP-ERICK\\Documents\\Maestria Data Scientist\\2023\\Trimestre 1\\Ciencia de datos con Python\\Scripts Python\\CDP_Markdown_and_git>"
     ]
    },
    {
     "name": "stderr",
     "output_type": "stream",
     "text": [
      "error: Your local changes to the following files would be overwritten by checkout:\n",
      "\tLaboratorio1.ipynb\n",
      "Please commit your changes or stash them before you switch branches.\n",
      "Aborting\n"
     ]
    }
   ],
   "source": [
    "%%cmd\n",
    "\n",
    "git checkout master"
   ]
  },
  {
   "cell_type": "code",
   "execution_count": null,
   "metadata": {},
   "outputs": [],
   "source": []
  }
 ],
 "metadata": {
  "kernelspec": {
   "display_name": "base",
   "language": "python",
   "name": "python3"
  },
  "language_info": {
   "codemirror_mode": {
    "name": "ipython",
    "version": 3
   },
   "file_extension": ".py",
   "mimetype": "text/x-python",
   "name": "python",
   "nbconvert_exporter": "python",
   "pygments_lexer": "ipython3",
   "version": "3.9.13"
  },
  "orig_nbformat": 4,
  "vscode": {
   "interpreter": {
    "hash": "e5db5a4253cce121ebe9698d376510bf384b5e4f783aefd7966c8046af1cda3e"
   }
  }
 },
 "nbformat": 4,
 "nbformat_minor": 2
}
